{
 "cells": [
  {
   "cell_type": "code",
   "execution_count": null,
   "metadata": {},
   "outputs": [],
   "source": [
    "!ls -lh\n"
   ]
  },
  {
   "cell_type": "code",
   "execution_count": null,
   "metadata": {},
   "outputs": [],
   "source": [
    "import alco"
   ]
  },
  {
   "cell_type": "code",
   "execution_count": null,
   "metadata": {},
   "outputs": [],
   "source": [
    "from alco import *"
   ]
  },
  {
   "cell_type": "code",
   "execution_count": null,
   "metadata": {},
   "outputs": [],
   "source": [
    "files = !ls HappyDataSaints/"
   ]
  },
  {
   "cell_type": "code",
   "execution_count": null,
   "metadata": {},
   "outputs": [],
   "source": [
    "len(files)"
   ]
  },
  {
   "cell_type": "code",
   "execution_count": null,
   "metadata": {},
   "outputs": [],
   "source": [
    "!pwd"
   ]
  },
  {
   "cell_type": "code",
   "execution_count": null,
   "metadata": {},
   "outputs": [],
   "source": [
    "files = ['/home/bitnami/nsfw-data-saints/prev/HappyDataSaints/' + f for f in files if f.split('.')[-1]=='jpg']"
   ]
  },
  {
   "cell_type": "code",
   "execution_count": null,
   "metadata": {},
   "outputs": [],
   "source": []
  },
  {
   "cell_type": "code",
   "execution_count": null,
   "metadata": {},
   "outputs": [],
   "source": [
    "files[100]"
   ]
  },
  {
   "cell_type": "code",
   "execution_count": null,
   "metadata": {},
   "outputs": [],
   "source": []
  },
  {
   "cell_type": "code",
   "execution_count": null,
   "metadata": {},
   "outputs": [],
   "source": []
  },
  {
   "cell_type": "code",
   "execution_count": null,
   "metadata": {},
   "outputs": [],
   "source": [
    "!touch progr.txt"
   ]
  },
  {
   "cell_type": "code",
   "execution_count": null,
   "metadata": {},
   "outputs": [],
   "source": [
    "len(files)"
   ]
  },
  {
   "cell_type": "code",
   "execution_count": null,
   "metadata": {},
   "outputs": [],
   "source": [
    "!touch progr.txt"
   ]
  },
  {
   "cell_type": "code",
   "execution_count": null,
   "metadata": {},
   "outputs": [],
   "source": [
    "111"
   ]
  },
  {
   "cell_type": "code",
   "execution_count": null,
   "metadata": {},
   "outputs": [],
   "source": []
  },
  {
   "cell_type": "code",
   "execution_count": null,
   "metadata": {},
   "outputs": [],
   "source": []
  },
  {
   "cell_type": "code",
   "execution_count": null,
   "metadata": {},
   "outputs": [],
   "source": []
  },
  {
   "cell_type": "code",
   "execution_count": 2,
   "metadata": {},
   "outputs": [],
   "source": [
    "import pandas as pd\n",
    "\n",
    "df = pd.read_csv('./beer_user.csv')"
   ]
  },
  {
   "cell_type": "code",
   "execution_count": null,
   "metadata": {},
   "outputs": [],
   "source": [
    "df.head()"
   ]
  },
  {
   "cell_type": "code",
   "execution_count": 3,
   "metadata": {},
   "outputs": [],
   "source": [
    "import auth\n",
    "from auth import *"
   ]
  },
  {
   "cell_type": "code",
   "execution_count": null,
   "metadata": {},
   "outputs": [],
   "source": [
    "!ls"
   ]
  },
  {
   "cell_type": "code",
   "execution_count": null,
   "metadata": {
    "scrolled": true
   },
   "outputs": [],
   "source": [
    "for url in df['photo'].values:\n",
    "    !curl -LO '$url'"
   ]
  },
  {
   "cell_type": "code",
   "execution_count": 1,
   "metadata": {},
   "outputs": [],
   "source": [
    "files = !ls\n",
    "files = [f for f in files if f.split('.')[-1] == 'jpg']"
   ]
  },
  {
   "cell_type": "code",
   "execution_count": null,
   "metadata": {},
   "outputs": [],
   "source": [
    "len(files), len(df['photo'])"
   ]
  },
  {
   "cell_type": "code",
   "execution_count": null,
   "metadata": {},
   "outputs": [],
   "source": [
    "files[:10]"
   ]
  },
  {
   "cell_type": "code",
   "execution_count": 4,
   "metadata": {},
   "outputs": [],
   "source": [
    "\n",
    "\n",
    "def get_trues_alco(imgs, phts):\n",
    "    request = predict_pb2.PredictRequest()\n",
    "    request.model_spec.name = 'inception'\n",
    "    request.model_spec.signature_name = 'predict_images'\n",
    "    request.inputs['images'].CopyFrom(\n",
    "        tf.contrib.util.make_tensor_proto(np.array(imgs), shape=[len(imgs)]))\n",
    "    result = stub.Predict(request, 360) # 6 minutes timeout\n",
    "    all_tags= result.outputs['classes'].string_val\n",
    "    alco_photos = []\n",
    "    for i in range(5*len(imgs)//5):\n",
    "        tags = all_tags[5*i : 5*(i+1)]\n",
    "        if len(set(tags)&alco_tags) > 0:\n",
    "            alco_photos += [phts[i]]\n",
    "    return alco_photos\n",
    "\n"
   ]
  },
  {
   "cell_type": "code",
   "execution_count": 38,
   "metadata": {},
   "outputs": [],
   "source": [
    "def download_img(img_url):\n",
    "    from StringIO import StringIO\n",
    "    import pycurl\n",
    "    buffer = StringIO()\n",
    "    c.setopt(c.URL, img_url)\n",
    "    c.setopt(c.WRITEDATA, buffer)\n",
    "    c.setopt(c.FOLLOWLOCATION, True)\n",
    "    c.setopt(c.SSL_VERIFYPEER, 0) # That is you key line for this purpose!\n",
    "\n",
    "    c.perform()\n",
    "\n",
    "    #im = Image.open(buffer,)\n",
    "    return buffer.getvalue()"
   ]
  },
  {
   "cell_type": "code",
   "execution_count": 41,
   "metadata": {},
   "outputs": [
    {
     "data": {
      "text/plain": [
       "624"
      ]
     },
     "execution_count": 41,
     "metadata": {},
     "output_type": "execute_result"
    }
   ],
   "source": [
    "len(df['photo'].values)"
   ]
  },
  {
   "cell_type": "code",
   "execution_count": null,
   "metadata": {},
   "outputs": [],
   "source": [
    "['https://pp.userapi.com/c830509/v830509178/2173b/uoGzLJsR4kU.jpg']\n",
    "1\n",
    "\n",
    "['https://pp.userapi.com/c841420/v841420230/528f8/a3oGWG8oGMQ.jpg']\n",
    "2\n",
    "\n",
    "['https://pp.userapi.com/c834100/v834100041/611e3/OPR4xhHBjF0.jpg']\n",
    "3\n",
    "\n",
    "['https://pp.userapi.com/c841626/v841626887/48d93/JTZL0dEP9Zk.jpg']\n",
    "4\n",
    "\n",
    "['https://pp.userapi.com/c840431/v840431865/3ac25/HalKJ0O9XHk.jpg"
   ]
  },
  {
   "cell_type": "code",
   "execution_count": 43,
   "metadata": {},
   "outputs": [
    {
     "name": "stdout",
     "output_type": "stream",
     "text": [
      "1 , 2 , 3 , 4 , 5 , 6 , 7 , 8 , 9 , 10 , 11 , 12 , 13 , 14 , 15 , 16 , 17 , 18 , 19 , 20 , 21 , 22 , 23 , 24 , 25 , 26 , 27 , 28 , 29 , 30 , 31 , 32 , 33 , 34 , 35 , pass 36 , 37 , 38 , 39 , 40 , 41 , 42 , 43 , 44 , 45 , 46 , 47 , 48 , 49 , 50 , 51 , 52 , 53 , 54 , 55 , 56 , 57 , 58 , 59 , 60 , 61 , 62 , 63 , 64 , 65 , 66 , 67 , 68 , 69 , 70 , 71 , pass 72 , 73 , 74 , 75 , 76 , 77 , 78 , 79 , 80 , 81 , pass 82 , 83 , 84 , 85 , 86 , 87 , 88 , 89 , 90 , 91 , 92 , 93 , 94 , 95 , 96 , 97 , 98 , 99 , 100 , 101 , 102 , 103 , 104 , 105 , 106 , 107 , 108 , 109 , 110 , 111 , 112 , 113 , 114 , 115 , 116 , 117 , 118 , 119 , 120 , 121 , 122 , 123 , 124 , 125 , pass 126 , 127 , 128 , 129 , 130 , 131 , 132 , 133 , 134 , 135 , 136 , 137 , 138 , 139 , 140 , 141 , 142 , 143 , 144 , 145 , 146 , 147 , 148 , 149 , 150 , 151 , 152 , 153 , 154 , 155 , 156 , 157 , 158 , 159 , pass 160 , 161 , 162 , 163 , 164 , 165 , 166 , 167 , 168 , 169 , 170 , 171 , 172 , 173 , 174 , 175 , 176 , 177 , 178 , 179 , 180 , 181 , 182 , 183 , 184 , 185 , 186 , 187 , 188 , 189 , 190 , 191 , 192 , 193 , 194 , 195 , 196 , 197 , 198 , pass 199 , 200 , 201 , 202 , 203 , 204 , 205 , 206 , 207 , 208 , 209 , 210 , 211 , 212 , 213 , 214 , 215 , 216 , 217 , 218 , 219 , 220 , 221 , 222 , 223 , 224 , 225 , 226 , 227 , 228 , 229 , 230 , 231 , 232 , 233 , 234 , 235 , 236 , 237 , 238 , 239 , pass 240 , 241 , 242 , pass 243 , 244 , 245 , 246 , 247 , 248 , 249 , 250 , 251 , 252 , 253 , 254 , 255 , 256 , 257 , 258 , 259 , 260 , 261 , 262 , 263 , 264 , 265 , 266 , 267 , 268 , 269 , 270 , 271 , 272 , 273 , 274 , 275 , 276 , 277 , 278 , 279 , 280 , pass 281 , pass 282 , 283 , 284 , 285 , 286 , 287 , 288 , 289 , 290 , 291 , 292 , 293 , 294 , 295 , 296 , 297 , 298 , 299 , 300 , 301 , 302 , 303 , pass pass pass 304 , 305 , pass 306 , 307 , 308 , 309 , 310 , 311 , pass 312 , pass 313 , 314 , 315 , 316 , 317 , 318 , 319 , 320 , 321 , 322 , 323 , pass 324 , 325 , 326 , 327 , 328 , 329 , 330 , 331 , 332 , 333 , 334 , 335 , 336 , 337 , 338 , 339 , 340 , 341 , 342 , 343 , 344 , 345 , 346 , 347 , 348 , 349 , 350 , 351 , 352 , 353 , 354 , 355 , 356 , 357 , 358 , 359 , 360 , 361 , 362 , 363 , 364 , 365 , 366 , 367 , 368 , 369 , 370 , 371 , 372 , 373 , 374 , 375 , 376 , 377 , 378 , 379 , pass 380 , pass 381 , 382 , 383 , 384 , 385 , 386 , 387 , pass 388 , 389 , 390 , 391 , 392 , 393 , 394 , 395 , 396 , 397 , 398 , 399 , 400 , 401 , 402 , 403 , pass 404 , 405 , 406 , 407 , 408 , 409 , 410 , pass 411 , 412 , 413 , 414 , 415 , 416 , 417 , 418 , 419 , 420 , 421 , 422 , 423 , 424 , 425 , 426 , 427 , 428 , 429 , 430 , 431 , 432 , 433 , 434 , 435 , 436 , pass 437 , 438 , 439 , 440 , 441 , 442 , 443 , 444 , 445 , 446 , 447 , 448 , 449 , 450 , 451 , 452 , 453 , 454 , 455 , 456 , 457 , 458 , 459 , 460 , 461 , 462 , 463 , 464 , 465 , 466 , 467 , 468 , 469 , 470 , 471 , 472 , 473 , 474 , 475 , 476 , 477 , pass 478 , 479 , 480 , 481 , 482 , 483 , 484 , 485 , 486 , 487 , 488 , 489 , 490 , 491 , pass 492 , 493 , 494 , 495 , 496 , 497 , 498 , 499 , 500 , 501 , 502 , 503 , 504 , 505 , 506 , 507 , 508 , pass 509 , 510 , 511 , 512 , 513 , 514 , 515 , pass 516 , 517 , 518 , 519 , 520 , 521 , 522 , 523 , 524 , 525 , 526 , 527 , 528 , 529 , pass 530 , 531 , 532 , 533 , 534 , 535 , 536 , 537 , 538 , 539 , 540 , 541 , 542 , 543 , 544 , pass 545 , pass 546 , pass 547 , 548 , 549 , 550 , 551 , 552 , pass 553 , 554 , 555 , 556 , 557 , 558 , 559 , 560 , 561 , 562 , 563 , 564 , 565 , 566 , 567 , 568 , 569 , 570 , 571 , 572 , 573 , 574 , 575 , 576 , 577 , 578 , 579 , 580 , 581 , 582 , 583 , 584 , 585 , 586 , 587 , 588 , 589 , 590 , 591 , 592 ,\n"
     ]
    }
   ],
   "source": [
    "results = []\n",
    "for url in df['photo'].values:\n",
    "    try:\n",
    "        ph = download_img(url)\n",
    "\n",
    "        res = get_trues_alco([ph], [url])\n",
    "        results += [[res,url]]\n",
    "        print len(results),',',\n",
    "    except:\n",
    "        print 'pass',\n",
    "        pass"
   ]
  },
  {
   "cell_type": "code",
   "execution_count": 58,
   "metadata": {},
   "outputs": [],
   "source": [
    "alcos = 0\n",
    "alcos_pit = 0\n",
    "\n",
    "for r in results:\n",
    "    is_alco = len(r[0])\n",
    "    tags = link_to_text[r[1]]\n",
    "    if is_alco:\n",
    "        alcos += 1\n",
    "        if 'итерепит' in tags.lower().replace(' ', ''):\n",
    "            alcos_pit += 1"
   ]
  },
  {
   "cell_type": "code",
   "execution_count": 59,
   "metadata": {},
   "outputs": [
    {
     "data": {
      "text/plain": [
       "(5, 271, 592)"
      ]
     },
     "execution_count": 59,
     "metadata": {},
     "output_type": "execute_result"
    }
   ],
   "source": [
    "alcos_pit, alcos, len(results)"
   ]
  },
  {
   "cell_type": "code",
   "execution_count": 61,
   "metadata": {},
   "outputs": [
    {
     "data": {
      "text/plain": [
       "0.4577702702702703"
      ]
     },
     "execution_count": 61,
     "metadata": {},
     "output_type": "execute_result"
    }
   ],
   "source": [
    "271./592"
   ]
  },
  {
   "cell_type": "code",
   "execution_count": null,
   "metadata": {},
   "outputs": [],
   "source": []
  },
  {
   "cell_type": "code",
   "execution_count": 48,
   "metadata": {},
   "outputs": [
    {
     "data": {
      "text/plain": [
       "'https://pp.userapi.com/c841425/v841425026/4c7b5/kIZ_aJDlGxE.jpg'"
      ]
     },
     "execution_count": 48,
     "metadata": {},
     "output_type": "execute_result"
    }
   ],
   "source": [
    "r[1]"
   ]
  },
  {
   "cell_type": "code",
   "execution_count": 51,
   "metadata": {},
   "outputs": [
    {
     "data": {
      "text/html": [
       "<div>\n",
       "<style scoped>\n",
       "    .dataframe tbody tr th:only-of-type {\n",
       "        vertical-align: middle;\n",
       "    }\n",
       "\n",
       "    .dataframe tbody tr th {\n",
       "        vertical-align: top;\n",
       "    }\n",
       "\n",
       "    .dataframe thead th {\n",
       "        text-align: right;\n",
       "    }\n",
       "</style>\n",
       "<table border=\"1\" class=\"dataframe\">\n",
       "  <thead>\n",
       "    <tr style=\"text-align: right;\">\n",
       "      <th></th>\n",
       "      <th>owner_id</th>\n",
       "      <th>date</th>\n",
       "      <th>text</th>\n",
       "      <th>geo_title</th>\n",
       "      <th>geo_city</th>\n",
       "      <th>geo_coord</th>\n",
       "      <th>photo</th>\n",
       "    </tr>\n",
       "  </thead>\n",
       "  <tbody>\n",
       "    <tr>\n",
       "      <th>0</th>\n",
       "      <td>214804</td>\n",
       "      <td>1513984209</td>\n",
       "      <td>В питере пить. #моллис #mollyspub #beer #kriek...</td>\n",
       "      <td>Прибалтийская площадь; Санкт-Петербург</td>\n",
       "      <td>Санкт-Петербург</td>\n",
       "      <td>59.940282413344 30.214155767052</td>\n",
       "      <td>https://pp.userapi.com/c830509/v830509178/2173...</td>\n",
       "    </tr>\n",
       "    <tr>\n",
       "      <th>1</th>\n",
       "      <td>469901</td>\n",
       "      <td>1513980074</td>\n",
       "      <td>Pale Ale от \"старого завода\" порадовал - много...</td>\n",
       "      <td>NaN</td>\n",
       "      <td>NaN</td>\n",
       "      <td>NaN</td>\n",
       "      <td>https://pp.userapi.com/c841420/v841420230/528f...</td>\n",
       "    </tr>\n",
       "    <tr>\n",
       "      <th>2</th>\n",
       "      <td>3444501</td>\n",
       "      <td>1513979663</td>\n",
       "      <td>Уже суббота😲😂👍🔞 #мирдолжензнатьчтояпью #пи...</td>\n",
       "      <td>проезд Дежнева; Москва</td>\n",
       "      <td>Москва</td>\n",
       "      <td>55.86987524151 37.636101966076</td>\n",
       "      <td>https://pp.userapi.com/c834100/v834100041/611e...</td>\n",
       "    </tr>\n",
       "    <tr>\n",
       "      <th>3</th>\n",
       "      <td>51898192</td>\n",
       "      <td>1513976439</td>\n",
       "      <td>Из 7 сортов на дегустации (от 6.5% до 11.3%) б...</td>\n",
       "      <td>Орликов переулок; Москва</td>\n",
       "      <td>Москва</td>\n",
       "      <td>55.770418734454 37.645566280405</td>\n",
       "      <td>https://pp.userapi.com/c841626/v841626887/48d9...</td>\n",
       "    </tr>\n",
       "    <tr>\n",
       "      <th>4</th>\n",
       "      <td>6687457</td>\n",
       "      <td>1513974737</td>\n",
       "      <td>#прощай #печень #пиво #чехия</td>\n",
       "      <td>Průchodní; Прага</td>\n",
       "      <td>Прага</td>\n",
       "      <td>50.083317696815 14.416679791908</td>\n",
       "      <td>https://pp.userapi.com/c840431/v840431865/3ac2...</td>\n",
       "    </tr>\n",
       "  </tbody>\n",
       "</table>\n",
       "</div>"
      ],
      "text/plain": [
       "   owner_id        date                                               text  \\\n",
       "0    214804  1513984209  В питере пить. #моллис #mollyspub #beer #kriek...   \n",
       "1    469901  1513980074  Pale Ale от \"старого завода\" порадовал - много...   \n",
       "2   3444501  1513979663  Уже суббота😲😂👍🔞 #мирдолжензнатьчтояпью #пи...   \n",
       "3  51898192  1513976439  Из 7 сортов на дегустации (от 6.5% до 11.3%) б...   \n",
       "4   6687457  1513974737                     #прощай #печень #пиво #чехия     \n",
       "\n",
       "                                geo_title         geo_city  \\\n",
       "0  Прибалтийская площадь; Санкт-Петербург  Санкт-Петербург   \n",
       "1                                     NaN              NaN   \n",
       "2                  проезд Дежнева; Москва           Москва   \n",
       "3                Орликов переулок; Москва           Москва   \n",
       "4                        Průchodní; Прага            Прага   \n",
       "\n",
       "                         geo_coord  \\\n",
       "0  59.940282413344 30.214155767052   \n",
       "1                              NaN   \n",
       "2   55.86987524151 37.636101966076   \n",
       "3  55.770418734454 37.645566280405   \n",
       "4  50.083317696815 14.416679791908   \n",
       "\n",
       "                                               photo  \n",
       "0  https://pp.userapi.com/c830509/v830509178/2173...  \n",
       "1  https://pp.userapi.com/c841420/v841420230/528f...  \n",
       "2  https://pp.userapi.com/c834100/v834100041/611e...  \n",
       "3  https://pp.userapi.com/c841626/v841626887/48d9...  \n",
       "4  https://pp.userapi.com/c840431/v840431865/3ac2...  "
      ]
     },
     "execution_count": 51,
     "metadata": {},
     "output_type": "execute_result"
    }
   ],
   "source": [
    "df.head()"
   ]
  },
  {
   "cell_type": "code",
   "execution_count": 53,
   "metadata": {},
   "outputs": [],
   "source": [
    "link_to_text = {}\n",
    "for ph,t in df[['photo', 'text']].values:\n",
    "    link_to_text[ph]=t"
   ]
  },
  {
   "cell_type": "code",
   "execution_count": null,
   "metadata": {},
   "outputs": [],
   "source": []
  },
  {
   "cell_type": "code",
   "execution_count": null,
   "metadata": {},
   "outputs": [],
   "source": []
  },
  {
   "cell_type": "code",
   "execution_count": null,
   "metadata": {},
   "outputs": [],
   "source": []
  },
  {
   "cell_type": "code",
   "execution_count": null,
   "metadata": {},
   "outputs": [],
   "source": [
    "results = []\n",
    "for f in files:\n",
    "    try:\n",
    "        res = get_trues_alco(open(f).read(), f)\n",
    "        print 'ok',\n",
    "        results += [[res, f]]\n",
    "    except KeyboardInterrupt:\n",
    "        break\n",
    "    except:\n",
    "        print 'passed',"
   ]
  },
  {
   "cell_type": "code",
   "execution_count": null,
   "metadata": {},
   "outputs": [],
   "source": []
  },
  {
   "cell_type": "code",
   "execution_count": null,
   "metadata": {},
   "outputs": [],
   "source": [
    "bad_files = []\n",
    "\n",
    "N=5\n",
    "\n",
    "for i in range(len(files)//N):\n",
    "    try:\n",
    "        print i,'..',\n",
    "        this_files = files[i*N : (i+1)*N]\n",
    "        bts = map(lambda f: open(f).read(), this_files)\n",
    "        result = get_trues_alco(bts, [t.split('/')[-1] for t in this_files])\n",
    "        with open('progr.txt', 'a') as f:\n",
    "            for r in result:\n",
    "                f.write(r+'\\n')\n",
    "    except:\n",
    "        print 'bad',\n",
    "        bad_files += files"
   ]
  },
  {
   "cell_type": "code",
   "execution_count": null,
   "metadata": {},
   "outputs": [],
   "source": [
    "5-48-37\n",
    "5-49-10"
   ]
  },
  {
   "cell_type": "code",
   "execution_count": null,
   "metadata": {},
   "outputs": [],
   "source": [
    "len(files)"
   ]
  },
  {
   "cell_type": "code",
   "execution_count": null,
   "metadata": {
    "scrolled": true
   },
   "outputs": [],
   "source": [
    "len(set(bad_files))"
   ]
  },
  {
   "cell_type": "code",
   "execution_count": null,
   "metadata": {},
   "outputs": [],
   "source": [
    "bad_files[:10]"
   ]
  },
  {
   "cell_type": "code",
   "execution_count": null,
   "metadata": {},
   "outputs": [],
   "source": [
    "lns = []\n",
    "with open('progr.txt', 'r') as f:\n",
    "    for line in f:\n",
    "        lns += [line.strip()]"
   ]
  },
  {
   "cell_type": "code",
   "execution_count": null,
   "metadata": {},
   "outputs": [],
   "source": [
    "len(lns)"
   ]
  },
  {
   "cell_type": "code",
   "execution_count": null,
   "metadata": {},
   "outputs": [],
   "source": [
    "len(set(lns))"
   ]
  },
  {
   "cell_type": "code",
   "execution_count": null,
   "metadata": {},
   "outputs": [],
   "source": [
    "result = get_trues_alco(imgs, img_urls)"
   ]
  },
  {
   "cell_type": "code",
   "execution_count": null,
   "metadata": {},
   "outputs": [],
   "source": [
    "import requests"
   ]
  },
  {
   "cell_type": "code",
   "execution_count": null,
   "metadata": {},
   "outputs": [],
   "source": []
  },
  {
   "cell_type": "code",
   "execution_count": null,
   "metadata": {},
   "outputs": [],
   "source": [
    "auth_url = \"https://oauth.vk.com/authorize?client_id=6309323&display=mobile&redirect_uri=http://ec2-34-242-141-128.eu-west-1.compute.amazonaws.com:8110/hello&scope=photos&response_type=code&v=5.69\""
   ]
  },
  {
   "cell_type": "code",
   "execution_count": null,
   "metadata": {},
   "outputs": [],
   "source": [
    "!curl $auth_url"
   ]
  },
  {
   "cell_type": "code",
   "execution_count": null,
   "metadata": {},
   "outputs": [],
   "source": [
    "https://oauth.vk.com/authorize?client_id=6309323&display=mobile&redirect_uri=http://ec2-34-242-141-128.eu-west-1.compute.amazonaws.com:8110/hello&scope=photos&response_type=code&v=5.69"
   ]
  }
 ],
 "metadata": {
  "kernelspec": {
   "display_name": "Python 2",
   "language": "python",
   "name": "python2"
  },
  "language_info": {
   "codemirror_mode": {
    "name": "ipython",
    "version": 2
   },
   "file_extension": ".py",
   "mimetype": "text/x-python",
   "name": "python",
   "nbconvert_exporter": "python",
   "pygments_lexer": "ipython2",
   "version": "2.7.13"
  }
 },
 "nbformat": 4,
 "nbformat_minor": 2
}
